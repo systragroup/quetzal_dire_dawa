{
 "cells": [
  {
   "cell_type": "code",
   "execution_count": 1,
   "metadata": {},
   "outputs": [],
   "source": [
    "import sys\n",
    "sys.path.insert(0, r'../../../quetzal')"
   ]
  },
  {
   "cell_type": "code",
   "execution_count": 2,
   "metadata": {},
   "outputs": [
    {
     "data": {
      "text/plain": [
       "<module 'quetzal.io.road' from '../../../quetzal\\\\quetzal\\\\io\\\\road.py'>"
      ]
     },
     "execution_count": 2,
     "metadata": {},
     "output_type": "execute_result"
    }
   ],
   "source": [
    "from tqdm import tqdm\n",
    "from shapely import geometry\n",
    "import pandas as pd\n",
    "import geopandas as gpd\n",
    "import time\n",
    "\n",
    "from imp import reload\n",
    "from copy import deepcopy\n",
    "from quetzal.io import road as road_io\n",
    "reload(road_io)"
   ]
  },
  {
   "cell_type": "code",
   "execution_count": 3,
   "metadata": {},
   "outputs": [],
   "source": [
    "import json"
   ]
  },
  {
   "cell_type": "code",
   "execution_count": 4,
   "metadata": {},
   "outputs": [],
   "source": [
    "from quetzal.io.road import *"
   ]
  },
  {
   "cell_type": "markdown",
   "metadata": {},
   "source": [
    "# UPDATE NODES"
   ]
  },
  {
   "cell_type": "code",
   "execution_count": 4,
   "metadata": {},
   "outputs": [],
   "source": [
    "with open(r'../../inputs/roads/input.geojson', 'r') as file:\n",
    "    text = file.read()\n",
    "road =  json.loads(text)\n",
    "nodes = gpd.GeoSeries(pd.Series(list(road_io.get_nodes(road))).apply(lambda t: geometry.Point(t)))\n",
    "nodes.to_file(r'../../inputs/roads/nodes.geojson', driver='GeoJSON')"
   ]
  },
  {
   "cell_type": "markdown",
   "metadata": {
    "scrolled": true
   },
   "source": [
    "# SPLIT FEATURES"
   ]
  },
  {
   "cell_type": "code",
   "execution_count": 5,
   "metadata": {},
   "outputs": [],
   "source": [
    "with open(r'../../inputs/roads/input.geojson', 'r') as file:\n",
    "    text = file.read()\n",
    "road =  json.loads(text)\n",
    "road_io.split_features(road)\n",
    "with open(r'../../inputs/roads/input.geojson', 'w') as file:\n",
    "    json.dump(road, file)"
   ]
  },
  {
   "cell_type": "markdown",
   "metadata": {},
   "source": [
    "# UPDATE TYPES"
   ]
  },
  {
   "cell_type": "code",
   "execution_count": 44,
   "metadata": {},
   "outputs": [],
   "source": [
    "with open(r'../../inputs/roads/input.geojson', 'r') as file:\n",
    "    text = file.read()\n",
    "road =  json.loads(text)\n",
    "df = gpd.read_file(json.dumps(road))\n",
    "df['type_bipo'] = df['type_poly']\n",
    "df.to_file(r'../../inputs/roads/input.geojson', driver='GeoJSON')"
   ]
  },
  {
   "cell_type": "markdown",
   "metadata": {},
   "source": [
    "# ROADMAP"
   ]
  },
  {
   "cell_type": "code",
   "execution_count": 32,
   "metadata": {},
   "outputs": [],
   "source": [
    "roadmap = gpd.read_file(r'../../inputs/roads/roads_2040.geojson')"
   ]
  },
  {
   "cell_type": "code",
   "execution_count": 33,
   "metadata": {},
   "outputs": [],
   "source": [
    "roadmap['poly_scat'] = '9'\n",
    "roadmap.loc[roadmap['type_poly'] != roadmap['type_scat'], 'poly_scat'] = roadmap['type_poly']"
   ]
  },
  {
   "cell_type": "code",
   "execution_count": 34,
   "metadata": {},
   "outputs": [],
   "source": [
    "roadmap.to_file(r'../../inputs/roads/roads_2040.geojson', driver='GeoJSON')"
   ]
  },
  {
   "cell_type": "markdown",
   "metadata": {},
   "source": [
    "# MISCELANEOUS"
   ]
  },
  {
   "cell_type": "code",
   "execution_count": null,
   "metadata": {},
   "outputs": [],
   "source": [
    "stop"
   ]
  },
  {
   "cell_type": "code",
   "execution_count": 108,
   "metadata": {},
   "outputs": [],
   "source": [
    "df.loc[df['highway'].isin(['track', 'path', 'service', 'unclassified']), 'highway'] = 'residential'\n",
    "def remove_link(string_or_none):\n",
    "    try:\n",
    "        return string_or_none.replace('_link', '')\n",
    "    except AttributeError:\n",
    "        return string_or_none\n",
    "df['highway'] = df['highway'].apply(remove_link)"
   ]
  },
  {
   "cell_type": "code",
   "execution_count": 112,
   "metadata": {},
   "outputs": [],
   "source": [
    "df['highway'].value_counts()\n",
    "df.to_file(r'../../inputs/roads/python.geojson', driver='GeoJSON')"
   ]
  },
  {
   "cell_type": "code",
   "execution_count": 115,
   "metadata": {},
   "outputs": [],
   "source": [
    "df['oneway'] = df['oneway'].fillna(0)"
   ]
  },
  {
   "cell_type": "code",
   "execution_count": 122,
   "metadata": {},
   "outputs": [],
   "source": [
    "df['type_ref'] = df['highway']\n",
    "df['type_scat'] = df['highway'].fillna('residential')\n",
    "df['type_poly'] = df['highway'].fillna('residential')\n",
    "df['type_bipo'] = df['highway'].fillna('residential')"
   ]
  },
  {
   "cell_type": "code",
   "execution_count": 14,
   "metadata": {},
   "outputs": [
    {
     "name": "stderr",
     "output_type": "stream",
     "text": [
      "100it [03:20,  2.01s/it]\n"
     ]
    }
   ],
   "source": [
    "iterator = tqdm((i for i in range(100)))\n",
    "textash = 0\n",
    "for i in iterator:\n",
    "    with open(r'../../inputs/roads/base.geojson', 'r') as file:\n",
    "        text = file.read()\n",
    "    if hash(text) != textash and textash:\n",
    "        road =  json.loads(text)\n",
    "        nodes = gpd.GeoSeries(pd.Series(list(get_nodes(road))).apply(lambda t: geometry.Point(t)))\n",
    "        nodes.to_file(r'../../inputs/roads/base_nodes.geojson', driver='GeoJSON')\n",
    "        keyboard.press_and_release('F5')\n",
    "    textash = hash(text)\n",
    "    time.sleep(1)"
   ]
  }
 ],
 "metadata": {
  "kernelspec": {
   "display_name": "Python [conda env:quetzal_env]",
   "language": "python",
   "name": "conda-env-quetzal_env-py"
  },
  "language_info": {
   "codemirror_mode": {
    "name": "ipython",
    "version": 3
   },
   "file_extension": ".py",
   "mimetype": "text/x-python",
   "name": "python",
   "nbconvert_exporter": "python",
   "pygments_lexer": "ipython3",
   "version": "3.7.9"
  }
 },
 "nbformat": 4,
 "nbformat_minor": 2
}
