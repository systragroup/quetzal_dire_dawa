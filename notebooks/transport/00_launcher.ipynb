{
 "cells": [
  {
   "cell_type": "code",
   "execution_count": 1,
   "metadata": {},
   "outputs": [],
   "source": [
    "import pandas as pd\n",
    "import os\n",
    "\n",
    "qpath = '../../'\n",
    "input_path =  qpath + r'inputs/'"
   ]
  },
  {
   "cell_type": "code",
   "execution_count": 2,
   "metadata": {},
   "outputs": [],
   "source": [
    "import sys\n",
    "sys.path.insert(0, r'../../../quetzal')\n",
    "from quetzal.os.parallel_call import parallel_call_notebook, parallel_call_notebooks"
   ]
  },
  {
   "cell_type": "code",
   "execution_count": 3,
   "metadata": {},
   "outputs": [],
   "source": [
    "kwargs = {'workers':4, 'errout_suffix':True, 'sleep':1,'stdout_path':r'log/out.txt', 'stderr_path':r'log/err.txt'}"
   ]
  },
  {
   "cell_type": "markdown",
   "metadata": {},
   "source": [
    "# A | NETWORKS"
   ]
  },
  {
   "cell_type": "code",
   "execution_count": 29,
   "metadata": {},
   "outputs": [],
   "source": [
    "scenario_list = ['polycentric1','polycentric1a','polycentric1b','polycentric1c']\n",
    "scenario_list += ['base','bipolar','polycentric','scattered']\n",
    "scenario_list = ['project_office', 'project_office_2', 'base_2']"
   ]
  },
  {
   "cell_type": "code",
   "execution_count": 5,
   "metadata": {},
   "outputs": [
    {
     "name": "stdout",
     "output_type": "stream",
     "text": [
      "0 A10_reference_networks.py base\n",
      "1 A12_population_jobs_visits.py manual\n",
      "75 seconds\n"
     ]
    }
   ],
   "source": [
    "parallel_call_notebooks(\n",
    "    ('A10_reference_networks.ipynb', ['base']), #\n",
    "    ('A12_population_jobs_visits.ipynb', ['manual']), # manual to plot maps / auto not to plot them\n",
    "    **kwargs\n",
    ")"
   ]
  },
  {
   "cell_type": "code",
   "execution_count": 32,
   "metadata": {},
   "outputs": [
    {
     "name": "stdout",
     "output_type": "stream",
     "text": [
      "0 A11_scenario_networks.py project_office\n",
      "1 A11_scenario_networks.py project_office_2\n",
      "2 A11_scenario_networks.py base_2\n",
      "subprocess **A11_scenario_networks.py2 base_2** terminated with an error.\n",
      "20 seconds\n"
     ]
    }
   ],
   "source": [
    "parallel_call_notebook('A11_scenario_networks.ipynb', arg_list=scenario_list, **kwargs)"
   ]
  },
  {
   "cell_type": "markdown",
   "metadata": {},
   "source": [
    "# B | FOUR STEPS"
   ]
  },
  {
   "cell_type": "code",
   "execution_count": 33,
   "metadata": {
    "scrolled": true
   },
   "outputs": [
    {
     "name": "stdout",
     "output_type": "stream",
     "text": [
      "0 B10_pathfinders.py project_office\n",
      "1 B10_pathfinders.py project_office_2\n",
      "2 B10_pathfinders.py base_2\n",
      "55 seconds\n"
     ]
    }
   ],
   "source": [
    "parallel_call_notebook('B10_pathfinders.ipynb', arg_list=scenario_list, **kwargs)"
   ]
  },
  {
   "cell_type": "code",
   "execution_count": 34,
   "metadata": {
    "scrolled": true
   },
   "outputs": [
    {
     "name": "stdout",
     "output_type": "stream",
     "text": [
      "0 B20_generation_distribution.py project_office\n",
      "1 B20_generation_distribution.py project_office_2\n",
      "2 B20_generation_distribution.py base_2\n",
      "12 seconds\n"
     ]
    }
   ],
   "source": [
    "parallel_call_notebook('B20_generation_distribution.ipynb', arg_list=scenario_list, **kwargs)"
   ]
  },
  {
   "cell_type": "code",
   "execution_count": 35,
   "metadata": {},
   "outputs": [
    {
     "name": "stdout",
     "output_type": "stream",
     "text": [
      "0 B30_modal_split.py project_office\n",
      "1 B30_modal_split.py project_office_2\n",
      "2 B30_modal_split.py base_2\n",
      "41 seconds\n"
     ]
    }
   ],
   "source": [
    "parallel_call_notebook('B30_modal_split.ipynb', arg_list=scenario_list, **kwargs)"
   ]
  },
  {
   "cell_type": "code",
   "execution_count": 36,
   "metadata": {},
   "outputs": [
    {
     "name": "stdout",
     "output_type": "stream",
     "text": [
      "0 B40_assignment.py project_office\n",
      "1 B40_assignment.py project_office_2\n",
      "2 B40_assignment.py base_2\n",
      "38 seconds\n"
     ]
    }
   ],
   "source": [
    "parallel_call_notebook('B40_assignment.ipynb', arg_list=scenario_list, **kwargs)"
   ]
  },
  {
   "cell_type": "code",
   "execution_count": null,
   "metadata": {},
   "outputs": [
    {
     "name": "stdout",
     "output_type": "stream",
     "text": [
      "0 B50_results_quentin.py project_office\n",
      "1 B50_results_quentin.py project_office_2\n"
     ]
    }
   ],
   "source": [
    "parallel_call_notebook('B50_results_quentin.ipynb', arg_list=scenario_list, **kwargs)"
   ]
  },
  {
   "cell_type": "markdown",
   "metadata": {},
   "source": [
    "# C | MERGE"
   ]
  },
  {
   "cell_type": "code",
   "execution_count": 8,
   "metadata": {},
   "outputs": [
    {
     "name": "stdout",
     "output_type": "stream",
     "text": [
      "0 C10_merge_scenarios.py base\n",
      "12 seconds\n"
     ]
    }
   ],
   "source": [
    "parallel_call_notebook('C10_merge_scenarios.ipynb', arg_list=['base'], **kwargs)"
   ]
  },
  {
   "cell_type": "markdown",
   "metadata": {},
   "source": [
    "# D | CALIBRATION"
   ]
  },
  {
   "cell_type": "code",
   "execution_count": null,
   "metadata": {},
   "outputs": [],
   "source": [
    "calibration_list = ['base']"
   ]
  },
  {
   "cell_type": "code",
   "execution_count": null,
   "metadata": {
    "scrolled": true
   },
   "outputs": [],
   "source": [
    "parallel_call_notebook('D20_generation_distribution_control.ipynb', arg_list=calibration_list, **kwargs)"
   ]
  },
  {
   "cell_type": "code",
   "execution_count": null,
   "metadata": {
    "scrolled": true
   },
   "outputs": [],
   "source": [
    "parallel_call_notebook('D30_modal_split_control.ipynb', arg_list=calibration_list, **kwargs)"
   ]
  },
  {
   "cell_type": "code",
   "execution_count": null,
   "metadata": {},
   "outputs": [],
   "source": [
    "parallel_call_notebook('D40_assignment_control.ipynb', arg_list=calibration_list, **kwargs)"
   ]
  }
 ],
 "metadata": {
  "kernelspec": {
   "display_name": "Python [conda env:quetzal_env]",
   "language": "python",
   "name": "conda-env-quetzal_env-py"
  },
  "language_info": {
   "codemirror_mode": {
    "name": "ipython",
    "version": 3
   },
   "file_extension": ".py",
   "mimetype": "text/x-python",
   "name": "python",
   "nbconvert_exporter": "python",
   "pygments_lexer": "ipython3",
   "version": "3.7.5"
  }
 },
 "nbformat": 4,
 "nbformat_minor": 2
}
