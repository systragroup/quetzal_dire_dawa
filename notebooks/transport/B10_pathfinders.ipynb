{
 "cells": [
  {
   "cell_type": "code",
   "execution_count": 190,
   "metadata": {},
   "outputs": [],
   "source": [
    "import sys # for automation and parallelization: set manual to false when run by a launcher\n",
    "manual, scenario = (True, 'project_office') if 'ipykernel' in sys.argv[0] else (False, sys.argv[1])"
   ]
  },
  {
   "cell_type": "markdown",
   "metadata": {},
   "source": [
    "# START"
   ]
  },
  {
   "cell_type": "code",
   "execution_count": 191,
   "metadata": {},
   "outputs": [],
   "source": [
    "import sys\n",
    "sys.path.insert(0, r'../../../quetzal')\n",
    "\n",
    "from quetzal.model import stepmodel\n",
    "from quetzal.io import excel\n",
    "import os\n",
    "import numpy as np\n",
    "import pandas as pd\n",
    "if manual:\n",
    "    %matplotlib inline"
   ]
  },
  {
   "cell_type": "code",
   "execution_count": 192,
   "metadata": {},
   "outputs": [],
   "source": [
    "parameter_frame = pd.read_excel('../../inputs/parameters.xlsx')"
   ]
  },
  {
   "cell_type": "code",
   "execution_count": 193,
   "metadata": {},
   "outputs": [],
   "source": [
    "parameter_frame.drop(['description', 'unit', 'by'], axis=1, errors='ignore', inplace=True)"
   ]
  },
  {
   "cell_type": "markdown",
   "metadata": {},
   "source": [
    "# IN"
   ]
  },
  {
   "cell_type": "code",
   "execution_count": 194,
   "metadata": {},
   "outputs": [],
   "source": [
    "training_folder = '../../'"
   ]
  },
  {
   "cell_type": "code",
   "execution_count": 195,
   "metadata": {},
   "outputs": [
    {
     "name": "stderr",
     "output_type": "stream",
     "text": [
      "zone_to_transit: 100%|█████████████████████████████████████████████████████████████████| 33/33 [00:00<00:00, 54.04it/s]\n"
     ]
    }
   ],
   "source": [
    "sm = stepmodel.read_zippedpickles(r'../../model/{scen}/networks'.format(scen=scenario))\n",
    "import geopandas as gpd\n"
   ]
  },
  {
   "cell_type": "code",
   "execution_count": 196,
   "metadata": {},
   "outputs": [
    {
     "name": "stderr",
     "output_type": "stream",
     "text": [
      "zone_to_transit: 100%|█████████████████████████████████████████████████████████████████| 33/33 [00:00<00:00, 54.10it/s]\n"
     ]
    }
   ],
   "source": [
    "sm = stepmodel.read_zippedpickles(r'../../model/{scen}/networks'.format(scen=scenario))\n",
    "import geopandas as gpd\n",
    "zones = gpd.read_file(r'../../inputs/zones/zones_with_population_2040.geojson')\n",
    "sm.zones = zones.set_index('id')"
   ]
  },
  {
   "cell_type": "code",
   "execution_count": 198,
   "metadata": {
    "scrolled": true
   },
   "outputs": [],
   "source": [
    "# the scenario specific variables are read from the parameter file\n",
    "var = excel.read_var(file='../../inputs/parameters.xlsx', scenario=scenario)"
   ]
  },
  {
   "cell_type": "code",
   "execution_count": null,
   "metadata": {},
   "outputs": [],
   "source": [
    "boarding_time = var['general']['boarding_time']"
   ]
  },
  {
   "cell_type": "code",
   "execution_count": null,
   "metadata": {},
   "outputs": [],
   "source": [
    "import rasterio\n",
    "import rasterio.plot"
   ]
  },
  {
   "cell_type": "code",
   "execution_count": null,
   "metadata": {},
   "outputs": [],
   "source": [
    "raster = rasterio.open(r'../../inputs/tiff/20137.tiff')"
   ]
  },
  {
   "cell_type": "code",
   "execution_count": null,
   "metadata": {
    "scrolled": false
   },
   "outputs": [],
   "source": [
    "fontsize=14\n",
    "if manual:\n",
    "    ax = sm.plot(\n",
    "        'links', basemap_url=None, figsize=[20, 20], color='green',\n",
    "        basemap_raster=raster, north_arrow=True, scalebar=True, linewidth=0.5)"
   ]
  },
  {
   "cell_type": "markdown",
   "metadata": {},
   "source": [
    "# SPEED, HEADWAY AND FARE"
   ]
  },
  {
   "cell_type": "code",
   "execution_count": null,
   "metadata": {},
   "outputs": [],
   "source": [
    "sm.links['route_type'] = 'bajaj'\n",
    "\n",
    "if var['general']['code']=='base':\n",
    "    sm.links['mode'] = 'bajaj'"
   ]
  },
  {
   "cell_type": "code",
   "execution_count": null,
   "metadata": {},
   "outputs": [],
   "source": [
    "sm.links.columns"
   ]
  },
  {
   "cell_type": "code",
   "execution_count": null,
   "metadata": {},
   "outputs": [],
   "source": [
    "headways = var['headway'].to_dict()\n",
    "vehicle_capacities = var['vehicle_capacities'].to_dict()\n",
    "\n",
    "sm.links['headway'] = np.nan\n",
    "sm.links['headway'].fillna(sm.links['mode'].apply(lambda t: headways.get(t, np.nan) ), inplace=True)\n",
    "sm.links['headway'] = sm.links['headway'].astype(int)\n",
    "sm.links['vehicle_capacity'] = sm.links['mode'].apply(vehicle_capacities.get)\n",
    "\n",
    "#if var['general']['code']=='base':\n",
    "#    sm.links['headway'] = np.nan\n",
    "#    sm.links['headway'].fillna(sm.links['route_type'].apply(lambda t: headways.get(t, np.nan) ), inplace=True)\n",
    "#    sm.links['vehicle_capacity'] = sm.links['route_type'].apply(vehicle_capacities.get)\n",
    "#else:\n",
    "#    sm.links['headway'] = sm.links['mode'].apply(headways.get)\n",
    "#    sm.links['vehicle_capacity'] = sm.links['mode'].apply(vehicle_capacities.get)"
   ]
  },
  {
   "cell_type": "code",
   "execution_count": null,
   "metadata": {
    "scrolled": false
   },
   "outputs": [],
   "source": [
    "sm.links['per_hour'] = 3600 / sm.links['headway'] \n",
    "sm.links['capacity'] = (sm.links['vehicle_capacity'] * sm.links['per_hour']).astype(int)"
   ]
  },
  {
   "cell_type": "code",
   "execution_count": null,
   "metadata": {},
   "outputs": [],
   "source": [
    "#sm.links['length'] = sm.links['road_length']\n",
    "walk_speed = 4\n",
    "sm.road_links['walk_speed'] = float(var['speed']['walk_on_road']) # km / h\n",
    "sm.road_links['speed'] = float(var['speed']['car']) # km / h\n",
    "sm.road_links['walk_time'] = sm.road_links['length'] / sm.road_links['walk_speed'] / 1000 * 3600"
   ]
  },
  {
   "cell_type": "code",
   "execution_count": null,
   "metadata": {},
   "outputs": [],
   "source": [
    "sm.road_links['time'] = sm.road_links['length'] / sm.road_links['speed'] / 1000 * 3600"
   ]
  },
  {
   "cell_type": "code",
   "execution_count": null,
   "metadata": {},
   "outputs": [],
   "source": [
    "sm.links['length'] = sm.links['geometry'].apply(lambda g: g.length)"
   ]
  },
  {
   "cell_type": "code",
   "execution_count": null,
   "metadata": {},
   "outputs": [],
   "source": [
    "sm.links['time']=sm.links['length']/float(var['speed']['car']) / 1000 * 3600\n",
    "sm.links['time']*=1.05\n",
    "\n",
    "#Show the benefit of a BRT\n",
    "\n",
    "if var['general']['code']!='base':\n",
    "    for l in sm.links.index:\n",
    "        if sm.links['mode'][l]=='brt':\n",
    "            sm.links['time'][l]=sm.links['time'][l]*var['speed']['car']/var['speed']['brt']"
   ]
  },
  {
   "cell_type": "markdown",
   "metadata": {},
   "source": [
    "# WALKMODEL"
   ]
  },
  {
   "cell_type": "code",
   "execution_count": null,
   "metadata": {},
   "outputs": [],
   "source": [
    "sm = sm.change_epsg(epsg=20137, coordinates_unit='meter')"
   ]
  },
  {
   "cell_type": "code",
   "execution_count": null,
   "metadata": {},
   "outputs": [],
   "source": [
    "kwargs = var['preparation_footpaths'].to_dict()\n",
    "sm.preparation_footpaths(**kwargs)\n",
    "print('preparation_footpaths:', kwargs)\n",
    "\n",
    "kwargs = var['preparation_ntlegs'].to_dict()\n",
    "sm.preparation_ntlegs(zone_to_road=True, zone_to_transit=True, **kwargs)\n",
    "print('preparation_ntlegs:', kwargs)\n",
    "\n",
    "sm.zone_to_transit['length'] = sm.zone_to_transit['geometry'].apply(lambda g: g.length)\n",
    "sm.zone_to_transit['time'] = sm.zone_to_transit['length'] / sm.zone_to_transit['speed'] * 3600 / 1000"
   ]
  },
  {
   "cell_type": "code",
   "execution_count": null,
   "metadata": {},
   "outputs": [],
   "source": [
    "if manual:\n",
    "    sm.plot('road_to_transit', figsize=[20, 20], basemap_raster=raster, title='Road to Transit')\n",
    "    sm.plot('zone_to_road', figsize=[20, 20], basemap_raster=raster, title='Zone to Road')"
   ]
  },
  {
   "cell_type": "code",
   "execution_count": null,
   "metadata": {},
   "outputs": [],
   "source": [
    "sm._add_type_prefixes( prefixes={'links': 'link_', 'zone_to_road': 'ztr_','road_to_transit': 'rtt_'})\n",
    "sm.zones = sm.zones.reindex(set(sm.zone_to_transit['a']).intersection(set(sm.zones.index)))\n",
    "sm.zones = sm.zones.reindex(set(sm.zone_to_road['a']).intersection(set(sm.zones.index)))"
   ]
  },
  {
   "cell_type": "code",
   "execution_count": null,
   "metadata": {},
   "outputs": [],
   "source": [
    "sm.links.head()"
   ]
  },
  {
   "cell_type": "markdown",
   "metadata": {},
   "source": [
    "# PT PATHFINDER  | optimal strategy"
   ]
  },
  {
   "cell_type": "code",
   "execution_count": null,
   "metadata": {},
   "outputs": [],
   "source": [
    "sm.links = sm.links.loc[sm.links['a'] != sm.links['b']]\n",
    "sm.step_strategy_finder(walk_on_road=True, boarding_time=boarding_time)"
   ]
  },
  {
   "cell_type": "code",
   "execution_count": null,
   "metadata": {},
   "outputs": [],
   "source": [
    "origin, destination ='k2_diredawa_university', 'k8_misrak_buna_board'\n",
    "\n",
    "if manual:\n",
    "    plot = sm.plot_strategy(\n",
    "        origin, destination, road=True, cmap='Reds', ax=None , walk_on_road=True,\n",
    "        figsize=(15, 10), legend='right', legend_kwds={'orientation': 'vertical', 'label': 'probability'},\n",
    "        basemap_raster=raster, scalebar=True, north_arrow=True\n",
    "    )"
   ]
  },
  {
   "cell_type": "code",
   "execution_count": null,
   "metadata": {},
   "outputs": [],
   "source": [
    "#origin, destination ='zone_157', 'k2_kebele_02' \n",
    "os.environ[\"PATH\"] += os.pathsep + r'C:\\Users\\mgomezdelarosa\\graphviz-2.38\\release\\bin/'\n",
    "os.environ[\"PATH\"] += os.pathsep + r'C:\\Users\\qchasserieau\\dev\\graphviz-2.38\\release\\bin/'\n",
    "sm.display_aggregated_edges( origin, destination, ranksep=0.5,rankdir='LR', irrelevant_nodes=set(sm.road_nodes.index))"
   ]
  },
  {
   "cell_type": "markdown",
   "metadata": {},
   "source": [
    "# ROAD PATHFINDER | all or nothing"
   ]
  },
  {
   "cell_type": "code",
   "execution_count": null,
   "metadata": {
    "scrolled": true
   },
   "outputs": [],
   "source": [
    "sm.step_road_pathfinder(all_or_nothing=True)"
   ]
  },
  {
   "cell_type": "code",
   "execution_count": null,
   "metadata": {},
   "outputs": [],
   "source": [
    "if not os.path.isdir(r'../../model/{scen}'.format(scen=scenario)):\n",
    "    os.mkdir(r'../../model/%s' % scenario)\n",
    "sm.to_zippedpickles(r'../../model/{scen}/aon_pathfinder'.format(scen=scenario))  "
   ]
  },
  {
   "cell_type": "code",
   "execution_count": null,
   "metadata": {},
   "outputs": [],
   "source": [
    "end_of_notebook"
   ]
  }
 ],
 "metadata": {
  "kernelspec": {
   "display_name": "Python [conda env:quetzal_env]",
   "language": "python",
   "name": "conda-env-quetzal_env-py"
  },
  "language_info": {
   "codemirror_mode": {
    "name": "ipython",
    "version": 3
   },
   "file_extension": ".py",
   "mimetype": "text/x-python",
   "name": "python",
   "nbconvert_exporter": "python",
   "pygments_lexer": "ipython3",
   "version": "3.7.5"
  }
 },
 "nbformat": 4,
 "nbformat_minor": 2
}
