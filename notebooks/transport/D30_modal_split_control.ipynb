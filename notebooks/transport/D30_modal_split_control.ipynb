{
 "cells": [
  {
   "cell_type": "code",
   "execution_count": 1,
   "metadata": {},
   "outputs": [],
   "source": [
    "import sys # for automation and parallelization: set manual to false when run by a launcher\n",
    "manual, scenario = (True, 'base') if 'ipykernel' in sys.argv[0] else (False, sys.argv[1])"
   ]
  },
  {
   "cell_type": "markdown",
   "metadata": {},
   "source": [
    "# START"
   ]
  },
  {
   "cell_type": "code",
   "execution_count": 2,
   "metadata": {},
   "outputs": [
    {
     "name": "stdout",
     "output_type": "stream",
     "text": [
      "PyTables is not installed. No support for HDF output.\n",
      "SQLalchemy is not installed. No support for SQL output.\n"
     ]
    }
   ],
   "source": [
    "import sys\n",
    "sys.path.insert(0, r'../../../quetzal')\n",
    "\n",
    "from quetzal.model import stepmodel\n",
    "from quetzal.io import excel\n",
    "import numpy as np\n",
    "import pandas as pd\n",
    "import geopandas as gpd\n",
    "from syspy.skims import skims"
   ]
  },
  {
   "cell_type": "code",
   "execution_count": 3,
   "metadata": {},
   "outputs": [
    {
     "name": "stderr",
     "output_type": "stream",
     "text": [
      "zone_to_transit: 100%|█████████████████████████████████████████████████████████████████| 45/45 [00:02<00:00, 20.32it/s]\n"
     ]
    }
   ],
   "source": [
    "sm = pathfound = stepmodel.read_zippedpickles(r'../../model/{scen}/modal_split'.format(scen=scenario))"
   ]
  },
  {
   "cell_type": "markdown",
   "metadata": {},
   "source": [
    "## Volume comparison "
   ]
  },
  {
   "cell_type": "code",
   "execution_count": 4,
   "metadata": {},
   "outputs": [
    {
     "data": {
      "image/png": "[encoded data removed]",
      "text/plain": [
       "<Figure size 1440x1440 with 2 Axes>"
      ]
     },
     "metadata": {
      "needs_background": "light"
     },
     "output_type": "display_data"
    }
   ],
   "source": [
    "import matplotlib.pyplot as plt\n",
    "#%matplotlib inline\n",
    "\n",
    "fig, axes = plt.subplots(ncols=2, sharey=True, sharex=True, figsize=[20, 20])\n",
    "\n",
    "axes[0].set_aspect('equal')\n",
    "axes[1].set_aspect('equal')"
   ]
  },
  {
   "cell_type": "code",
   "execution_count": 5,
   "metadata": {
    "scrolled": true
   },
   "outputs": [
    {
     "data": {
      "text/plain": [
       "route_types\n",
       "(car,)      9219.905443\n",
       "(pt,)      42583.232264\n",
       "(walk,)    44441.879966\n",
       "Name: volume, dtype: float64"
      ]
     },
     "execution_count": 5,
     "metadata": {},
     "output_type": "execute_result"
    }
   ],
   "source": [
    "pathfound.los.groupby('route_types')['volume'].sum()"
   ]
  },
  {
   "cell_type": "code",
   "execution_count": 6,
   "metadata": {},
   "outputs": [
    {
     "data": {
      "text/html": [
       "<div>\n",
       "<style scoped>\n",
       "    .dataframe tbody tr th:only-of-type {\n",
       "        vertical-align: middle;\n",
       "    }\n",
       "\n",
       "    .dataframe tbody tr th {\n",
       "        vertical-align: top;\n",
       "    }\n",
       "\n",
       "    .dataframe thead th {\n",
       "        text-align: right;\n",
       "    }\n",
       "</style>\n",
       "<table border=\"1\" class=\"dataframe\">\n",
       "  <thead>\n",
       "    <tr style=\"text-align: right;\">\n",
       "      <th>route_type</th>\n",
       "      <th>origin</th>\n",
       "      <th>destination</th>\n",
       "      <th>segment</th>\n",
       "      <th>root</th>\n",
       "      <th>pt</th>\n",
       "      <th>walk</th>\n",
       "      <th>car</th>\n",
       "    </tr>\n",
       "  </thead>\n",
       "  <tbody>\n",
       "    <tr>\n",
       "      <th>0</th>\n",
       "      <td>k2_awee</td>\n",
       "      <td>k1_abdulahi_mussa</td>\n",
       "      <td>todos</td>\n",
       "      <td>1</td>\n",
       "      <td>0.642039</td>\n",
       "      <td>0.118237</td>\n",
       "      <td>0.239724</td>\n",
       "    </tr>\n",
       "    <tr>\n",
       "      <th>1</th>\n",
       "      <td>k2_awee</td>\n",
       "      <td>k1_agedalis</td>\n",
       "      <td>todos</td>\n",
       "      <td>1</td>\n",
       "      <td>0.613092</td>\n",
       "      <td>0.112906</td>\n",
       "      <td>0.274002</td>\n",
       "    </tr>\n",
       "    <tr>\n",
       "      <th>2</th>\n",
       "      <td>k2_awee</td>\n",
       "      <td>k1_gender_reye</td>\n",
       "      <td>todos</td>\n",
       "      <td>1</td>\n",
       "      <td>0.496296</td>\n",
       "      <td>0.245931</td>\n",
       "      <td>0.257772</td>\n",
       "    </tr>\n",
       "    <tr>\n",
       "      <th>3</th>\n",
       "      <td>k2_awee</td>\n",
       "      <td>k1_genede_amerach</td>\n",
       "      <td>todos</td>\n",
       "      <td>1</td>\n",
       "      <td>0.628550</td>\n",
       "      <td>0.135399</td>\n",
       "      <td>0.236052</td>\n",
       "    </tr>\n",
       "    <tr>\n",
       "      <th>4</th>\n",
       "      <td>k2_awee</td>\n",
       "      <td>k1_genede_buta</td>\n",
       "      <td>todos</td>\n",
       "      <td>1</td>\n",
       "      <td>0.608118</td>\n",
       "      <td>0.111990</td>\n",
       "      <td>0.279891</td>\n",
       "    </tr>\n",
       "  </tbody>\n",
       "</table>\n",
       "</div>"
      ],
      "text/plain": [
       "route_type   origin        destination segment  root        pt      walk  \\\n",
       "0           k2_awee  k1_abdulahi_mussa   todos     1  0.642039  0.118237   \n",
       "1           k2_awee        k1_agedalis   todos     1  0.613092  0.112906   \n",
       "2           k2_awee     k1_gender_reye   todos     1  0.496296  0.245931   \n",
       "3           k2_awee  k1_genede_amerach   todos     1  0.628550  0.135399   \n",
       "4           k2_awee     k1_genede_buta   todos     1  0.608118  0.111990   \n",
       "\n",
       "route_type       car  \n",
       "0           0.239724  \n",
       "1           0.274002  \n",
       "2           0.257772  \n",
       "3           0.236052  \n",
       "4           0.279891  "
      ]
     },
     "execution_count": 6,
     "metadata": {},
     "output_type": "execute_result"
    }
   ],
   "source": [
    "pathfound.probabilities.head()"
   ]
  },
  {
   "cell_type": "code",
   "execution_count": 7,
   "metadata": {},
   "outputs": [],
   "source": [
    "s = pathfound.los.groupby('route_types')['volume'].sum()\n",
    "plot_est = s.plot(\n",
    "    kind='pie', ax = axes[0], \n",
    "    autopct='%1.0f%%',\n",
    "    shadow=False,\n",
    "    startangle=90, figsize=[10, 10])\n",
    "plot_est.set_aspect('equal')"
   ]
  },
  {
   "cell_type": "code",
   "execution_count": 8,
   "metadata": {},
   "outputs": [],
   "source": [
    "sm = pathfound\n",
    "trips = pd.read_csv(r'../../../quetzal_dire_dawa/inputs/clean_trips.csv')\n",
    "\n",
    "trips['departure_time'] = trips['departure_time'].apply(lambda dt_string: pd.Timedelta(dt_string))\n",
    "\n",
    "trips_hpm=trips.loc[\n",
    "    (trips['departure_time']>=pd.Timedelta('7 hours'))\n",
    "    & (trips['departure_time']<=pd.Timedelta('7 hours 55 minutes'))\n",
    "]\n",
    "\n",
    "#df_zones = sm.zones[['kebele','latin_name','kebele_latin']].rename(columns={'kebele_latin':'kebele latin'}).reset_index().set_index('latin_name')\n",
    "#dict_zones = df_zones.to_dict('index')\n",
    "\n",
    "df_zones = sm.zones[['latin_name', 'kebele']]\n",
    "dict_zones_ind = df_zones.to_dict('index')\n",
    "df_zones = df_zones.reset_index()\n",
    "df_zones['latin_name'] = df_zones['latin_name'].dropna().apply(lambda s : s.replace(\"_\", \" \"))\n",
    "df_zones = df_zones.set_index('latin_name').dropna()\n",
    "dict_zones = df_zones.to_dict('index')\n",
    "\n",
    "trips_hpm['zone origin']=trips_hpm['zone origin'].apply(lambda s: s.replace(\"é\", \"e\"))\n",
    "trips_hpm['zone destination']=trips_hpm['zone destination'].apply(lambda s: s.replace(\"é\", \"e\"))\n",
    "\n",
    "trips_hpm['zone origin'] = trips_hpm['zone origin'].apply(lambda i: dict_zones[i]['id'])\n",
    "trips_hpm['zone destination'] = trips_hpm['zone destination'].apply(lambda i: dict_zones[i]['id'])\n",
    "\n",
    "trips_modes = trips_hpm.groupby('mode')['weight'].sum().drop(['other', 'staff/school bus'])\n",
    "\n",
    "r = pd.DataFrame(trips_modes).T\n",
    "r['pt']=r['bajaj (route)'] + r['minibus']\n",
    "r['car']=r['car (driver)'] + r['car (passenger)'] + r['moto'] + r['bajaj (contract)']\n",
    "r['walk']=r['walking']\n",
    "\n",
    "trips_modes_model = r[['car','pt','walk']].T\n",
    "\n",
    "plot_real = trips_modes_model['weight'].plot(\n",
    "    kind='pie', ax = axes[1],\n",
    "    autopct='%1.0f%%',\n",
    "    shadow=False,\n",
    "    startangle=90, figsize=[10, 10])\n",
    "plot_real.set_aspect('equal')"
   ]
  },
  {
   "cell_type": "code",
   "execution_count": 9,
   "metadata": {},
   "outputs": [
    {
     "data": {
      "image/png": "[encoded data removed]",
      "text/plain": [
       "<Figure size 720x720 with 2 Axes>"
      ]
     },
     "execution_count": 9,
     "metadata": {},
     "output_type": "execute_result"
    }
   ],
   "source": [
    "axes[0].set_title('modeled volume')\n",
    "axes[1].set_title('counted volume')\n",
    "fig"
   ]
  },
  {
   "cell_type": "code",
   "execution_count": 10,
   "metadata": {},
   "outputs": [
    {
     "data": {
      "text/plain": [
       "1664.2331745034346"
      ]
     },
     "execution_count": 10,
     "metadata": {},
     "output_type": "execute_result"
    }
   ],
   "source": [
    "los = pathfound.los\n",
    "los.loc[los['route_type']=='walk']\n",
    "los['tv']=los['volume']*los['time']\n",
    "los['tv'].sum()/los['volume'].sum()"
   ]
  },
  {
   "cell_type": "markdown",
   "metadata": {},
   "source": [
    "## Passenger.Km comparison"
   ]
  },
  {
   "cell_type": "code",
   "execution_count": 11,
   "metadata": {},
   "outputs": [],
   "source": [
    "#Zoning import\n",
    "\n",
    "zones =  gpd.read_file(r'../../../quetzal_dire_dawa/inputs/zones/zones_name_and_sample.geojson')\n",
    "zones['kebele_latin'] = zones['kebele_latin'].apply(lambda a: a.replace(\" \", \"_\"))\n",
    "zones = zones.set_index('kebele_latin')"
   ]
  },
  {
   "cell_type": "code",
   "execution_count": 12,
   "metadata": {},
   "outputs": [
    {
     "data": {
      "text/html": [
       "<div>\n",
       "<style scoped>\n",
       "    .dataframe tbody tr th:only-of-type {\n",
       "        vertical-align: middle;\n",
       "    }\n",
       "\n",
       "    .dataframe tbody tr th {\n",
       "        vertical-align: top;\n",
       "    }\n",
       "\n",
       "    .dataframe thead th {\n",
       "        text-align: right;\n",
       "    }\n",
       "</style>\n",
       "<table border=\"1\" class=\"dataframe\">\n",
       "  <thead>\n",
       "    <tr style=\"text-align: right;\">\n",
       "      <th></th>\n",
       "      <th></th>\n",
       "      <th>euclidean_distance</th>\n",
       "      <th>x_origin</th>\n",
       "      <th>y_origin</th>\n",
       "      <th>x_destination</th>\n",
       "      <th>y_destination</th>\n",
       "      <th>km</th>\n",
       "    </tr>\n",
       "    <tr>\n",
       "      <th>origin</th>\n",
       "      <th>destination</th>\n",
       "      <th></th>\n",
       "      <th></th>\n",
       "      <th></th>\n",
       "      <th></th>\n",
       "      <th></th>\n",
       "      <th></th>\n",
       "    </tr>\n",
       "  </thead>\n",
       "  <tbody>\n",
       "    <tr>\n",
       "      <th>k8_mesgid_taliyan</th>\n",
       "      <th>k8_mesgid_taliyan</th>\n",
       "      <td>0.000000</td>\n",
       "      <td>41.871688</td>\n",
       "      <td>9.589288</td>\n",
       "      <td>41.871688</td>\n",
       "      <td>9.589288</td>\n",
       "      <td>0.800000</td>\n",
       "    </tr>\n",
       "    <tr>\n",
       "      <th>k8_jemoa_clinic</th>\n",
       "      <th>k8_mesgid_taliyan</th>\n",
       "      <td>245.565953</td>\n",
       "      <td>41.873914</td>\n",
       "      <td>9.589531</td>\n",
       "      <td>41.871688</td>\n",
       "      <td>9.589288</td>\n",
       "      <td>1.045566</td>\n",
       "    </tr>\n",
       "    <tr>\n",
       "      <th>k8_sefer_bimea_msbor</th>\n",
       "      <th>k8_mesgid_taliyan</th>\n",
       "      <td>468.376269</td>\n",
       "      <td>41.875943</td>\n",
       "      <td>9.589666</td>\n",
       "      <td>41.871688</td>\n",
       "      <td>9.589288</td>\n",
       "      <td>1.268376</td>\n",
       "    </tr>\n",
       "    <tr>\n",
       "      <th>k8_abdi_kulu_garaj</th>\n",
       "      <th>k8_mesgid_taliyan</th>\n",
       "      <td>684.746726</td>\n",
       "      <td>41.877861</td>\n",
       "      <td>9.590223</td>\n",
       "      <td>41.871688</td>\n",
       "      <td>9.589288</td>\n",
       "      <td>1.484747</td>\n",
       "    </tr>\n",
       "    <tr>\n",
       "      <th>k8_lege_afe</th>\n",
       "      <th>k8_mesgid_taliyan</th>\n",
       "      <td>886.448563</td>\n",
       "      <td>41.879622</td>\n",
       "      <td>9.590825</td>\n",
       "      <td>41.871688</td>\n",
       "      <td>9.589288</td>\n",
       "      <td>1.686449</td>\n",
       "    </tr>\n",
       "  </tbody>\n",
       "</table>\n",
       "</div>"
      ],
      "text/plain": [
       "                                        euclidean_distance   x_origin  \\\n",
       "origin               destination                                        \n",
       "k8_mesgid_taliyan    k8_mesgid_taliyan            0.000000  41.871688   \n",
       "k8_jemoa_clinic      k8_mesgid_taliyan          245.565953  41.873914   \n",
       "k8_sefer_bimea_msbor k8_mesgid_taliyan          468.376269  41.875943   \n",
       "k8_abdi_kulu_garaj   k8_mesgid_taliyan          684.746726  41.877861   \n",
       "k8_lege_afe          k8_mesgid_taliyan          886.448563  41.879622   \n",
       "\n",
       "                                        y_origin  x_destination  \\\n",
       "origin               destination                                  \n",
       "k8_mesgid_taliyan    k8_mesgid_taliyan  9.589288      41.871688   \n",
       "k8_jemoa_clinic      k8_mesgid_taliyan  9.589531      41.871688   \n",
       "k8_sefer_bimea_msbor k8_mesgid_taliyan  9.589666      41.871688   \n",
       "k8_abdi_kulu_garaj   k8_mesgid_taliyan  9.590223      41.871688   \n",
       "k8_lege_afe          k8_mesgid_taliyan  9.590825      41.871688   \n",
       "\n",
       "                                        y_destination        km  \n",
       "origin               destination                                 \n",
       "k8_mesgid_taliyan    k8_mesgid_taliyan       9.589288  0.800000  \n",
       "k8_jemoa_clinic      k8_mesgid_taliyan       9.589288  1.045566  \n",
       "k8_sefer_bimea_msbor k8_mesgid_taliyan       9.589288  1.268376  \n",
       "k8_abdi_kulu_garaj   k8_mesgid_taliyan       9.589288  1.484747  \n",
       "k8_lege_afe          k8_mesgid_taliyan       9.589288  1.686449  "
      ]
     },
     "execution_count": 12,
     "metadata": {},
     "output_type": "execute_result"
    }
   ],
   "source": [
    "#Euclidean distance calcule\n",
    "\n",
    "euclidean = skims.euclidean(zones).set_index(['origin', 'destination'])\n",
    "intrazonal = 0.8\n",
    "euclidean['km'] = euclidean['euclidean_distance']/1000 + intrazonal\n",
    "euclidean.head()"
   ]
  },
  {
   "cell_type": "code",
   "execution_count": 13,
   "metadata": {},
   "outputs": [],
   "source": [
    "#Passenger.Km on estimated volumes\n",
    "\n",
    "los_pkm = pd.merge(pathfound.los.set_index(['origin', 'destination']),euclidean['km'], left_index=True, right_index=True)\n",
    "los_pkm['estim_pkm'] = los_pkm['volume']*los_pkm['km']\n",
    "\n",
    "s_pkm = pd.DataFrame(los_pkm.groupby('route_type')['estim_pkm'].sum())"
   ]
  },
  {
   "cell_type": "code",
   "execution_count": 14,
   "metadata": {},
   "outputs": [],
   "source": [
    "#Passenger.Km on survey data\n",
    "\n",
    "real = pd.DataFrame(trips_hpm.groupby(['zone origin', 'zone destination', 'mode'], as_index=False)['weight', 'mode'].sum())\n",
    "real_pkm = pd.merge(real,euclidean['km'], left_on=(['zone origin', 'zone destination']), right_index=True)\n",
    "\n",
    "real_pkm['real_pkm'] = real_pkm['weight']*real_pkm['km']\n",
    "\n",
    "r_pkm = pd.DataFrame(real_pkm.groupby('mode')['real_pkm'].sum()).T\n",
    "r_pkm['pt']=r_pkm['bajaj (route)'] + r_pkm['minibus']\n",
    "r_pkm['car']=r_pkm['car (driver)'] + r_pkm['car (passenger)'] + r_pkm['moto'] + r_pkm['bajaj (contract)']\n",
    "r_pkm['walk']=r_pkm['walking']\n",
    "\n",
    "r_pkm = r_pkm[['car','pt','walk']].T"
   ]
  },
  {
   "cell_type": "code",
   "execution_count": 15,
   "metadata": {
    "scrolled": false
   },
   "outputs": [
    {
     "data": {
      "text/plain": [
       "Text(0.5, 1.0, 'counted pkm')"
      ]
     },
     "execution_count": 15,
     "metadata": {},
     "output_type": "execute_result"
    },
    {
     "data": {
      "image/png": "[encoded data removed]",
      "text/plain": [
       "<Figure size 720x720 with 2 Axes>"
      ]
     },
     "metadata": {},
     "output_type": "display_data"
    }
   ],
   "source": [
    "fig_pkm, axes1 = plt.subplots(ncols=2, sharey=True, sharex=True, figsize=[20, 20])\n",
    "\n",
    "axes1[0].set_aspect('equal')\n",
    "axes1[1].set_aspect('equal')\n",
    "\n",
    "real_pkm = r_pkm.plot(\n",
    "    kind='pie', y='real_pkm',\n",
    "    autopct='%1.0f%%',\n",
    "    shadow=False,\n",
    "    startangle=90, figsize=[10, 10], ax=axes1[1])\n",
    "\n",
    "estim_plot = s_pkm.plot(\n",
    "    kind='pie', y='estim_pkm',\n",
    "    autopct='%1.0f%%',\n",
    "    shadow=False,\n",
    "    startangle=90, figsize=[10, 10], ax=axes1[0])\n",
    "\n",
    "axes1[0].set_title('modeled pkm')\n",
    "axes1[1].set_title('counted pkm')"
   ]
  },
  {
   "cell_type": "code",
   "execution_count": 16,
   "metadata": {},
   "outputs": [],
   "source": [
    " #plot_pkm = pd.merge(r_pkm,s_pkm, left_index=True, right_index=True).plot(kind = 'bar')"
   ]
  },
  {
   "cell_type": "markdown",
   "metadata": {},
   "source": [
    "## Export "
   ]
  },
  {
   "cell_type": "code",
   "execution_count": 17,
   "metadata": {},
   "outputs": [],
   "source": [
    "fig.savefig(r'../../model/{scen}/calibration/volume_split_{scen}.png'.format(scen=scenario), bbox_inches='tight')"
   ]
  },
  {
   "cell_type": "code",
   "execution_count": 18,
   "metadata": {},
   "outputs": [],
   "source": [
    "fig_pkm.savefig(r'../../model/{scen}/calibration/pkm_split_{scen}.png'.format(scen=scenario), bbox_inches='tight')"
   ]
  },
  {
   "cell_type": "code",
   "execution_count": 20,
   "metadata": {
    "scrolled": true
   },
   "outputs": [
    {
     "ename": "FileNotFoundError",
     "evalue": "[Errno 2] No such file or directory: '../../model/base/calibration/calibration_base.xlsx'",
     "output_type": "error",
     "traceback": [
      "\u001b[1;31m---------------------------------------------------------------------------\u001b[0m",
      "\u001b[1;31mFileNotFoundError\u001b[0m                         Traceback (most recent call last)",
      "\u001b[1;32m<ipython-input-20-26dde6c128ef>\u001b[0m in \u001b[0;36m<module>\u001b[1;34m\u001b[0m\n\u001b[1;32m----> 1\u001b[1;33m \u001b[0mwriter\u001b[0m \u001b[1;33m=\u001b[0m \u001b[0mpd\u001b[0m\u001b[1;33m.\u001b[0m\u001b[0mExcelWriter\u001b[0m\u001b[1;33m(\u001b[0m\u001b[1;34mr'../../model/{scen}/calibration/calibration_{scen}.xlsx'\u001b[0m\u001b[1;33m.\u001b[0m\u001b[0mformat\u001b[0m\u001b[1;33m(\u001b[0m\u001b[0mscen\u001b[0m\u001b[1;33m=\u001b[0m\u001b[0mscenario\u001b[0m\u001b[1;33m)\u001b[0m\u001b[1;33m,\u001b[0m \u001b[0mmode\u001b[0m\u001b[1;33m=\u001b[0m\u001b[1;34m'a'\u001b[0m\u001b[1;33m)\u001b[0m\u001b[1;33m\u001b[0m\u001b[1;33m\u001b[0m\u001b[0m\n\u001b[0m\u001b[0;32m      2\u001b[0m \u001b[0mpd\u001b[0m\u001b[1;33m.\u001b[0m\u001b[0mmerge\u001b[0m\u001b[1;33m(\u001b[0m\u001b[0mr_pkm\u001b[0m\u001b[1;33m,\u001b[0m\u001b[0ms_pkm\u001b[0m\u001b[1;33m,\u001b[0m \u001b[0mleft_index\u001b[0m\u001b[1;33m=\u001b[0m\u001b[1;32mTrue\u001b[0m\u001b[1;33m,\u001b[0m \u001b[0mright_index\u001b[0m\u001b[1;33m=\u001b[0m\u001b[1;32mTrue\u001b[0m\u001b[1;33m)\u001b[0m\u001b[1;33m.\u001b[0m\u001b[0mstack\u001b[0m\u001b[1;33m(\u001b[0m\u001b[1;33m)\u001b[0m\u001b[1;33m.\u001b[0m\u001b[0mto_excel\u001b[0m\u001b[1;33m(\u001b[0m\u001b[0mwriter\u001b[0m\u001b[1;33m,\u001b[0m \u001b[0msheet_name\u001b[0m\u001b[1;33m=\u001b[0m\u001b[1;34m'modal_split'\u001b[0m\u001b[1;33m)\u001b[0m\u001b[1;33m\u001b[0m\u001b[1;33m\u001b[0m\u001b[0m\n\u001b[0;32m      3\u001b[0m \u001b[0mwriter\u001b[0m\u001b[1;33m.\u001b[0m\u001b[0msave\u001b[0m\u001b[1;33m(\u001b[0m\u001b[1;33m)\u001b[0m\u001b[1;33m\u001b[0m\u001b[1;33m\u001b[0m\u001b[0m\n",
      "\u001b[1;32m~\\Anaconda3\\envs\\quetzal_env\\lib\\site-packages\\pandas\\io\\excel\\_openpyxl.py\u001b[0m in \u001b[0;36m__init__\u001b[1;34m(self, path, engine, mode, storage_options, **engine_kwargs)\u001b[0m\n\u001b[0;32m     29\u001b[0m \u001b[1;33m\u001b[0m\u001b[0m\n\u001b[0;32m     30\u001b[0m         super().__init__(\n\u001b[1;32m---> 31\u001b[1;33m             \u001b[0mpath\u001b[0m\u001b[1;33m,\u001b[0m \u001b[0mmode\u001b[0m\u001b[1;33m=\u001b[0m\u001b[0mmode\u001b[0m\u001b[1;33m,\u001b[0m \u001b[0mstorage_options\u001b[0m\u001b[1;33m=\u001b[0m\u001b[0mstorage_options\u001b[0m\u001b[1;33m,\u001b[0m \u001b[1;33m**\u001b[0m\u001b[0mengine_kwargs\u001b[0m\u001b[1;33m\u001b[0m\u001b[1;33m\u001b[0m\u001b[0m\n\u001b[0m\u001b[0;32m     32\u001b[0m         )\n\u001b[0;32m     33\u001b[0m \u001b[1;33m\u001b[0m\u001b[0m\n",
      "\u001b[1;32m~\\Anaconda3\\envs\\quetzal_env\\lib\\site-packages\\pandas\\io\\excel\\_base.py\u001b[0m in \u001b[0;36m__init__\u001b[1;34m(self, path, engine, date_format, datetime_format, mode, storage_options, **engine_kwargs)\u001b[0m\n\u001b[0;32m    798\u001b[0m         \u001b[1;32mif\u001b[0m \u001b[1;32mnot\u001b[0m \u001b[0misinstance\u001b[0m\u001b[1;33m(\u001b[0m\u001b[0mpath\u001b[0m\u001b[1;33m,\u001b[0m \u001b[0mExcelWriter\u001b[0m\u001b[1;33m)\u001b[0m\u001b[1;33m:\u001b[0m\u001b[1;33m\u001b[0m\u001b[1;33m\u001b[0m\u001b[0m\n\u001b[0;32m    799\u001b[0m             self.handles = get_handle(\n\u001b[1;32m--> 800\u001b[1;33m                 \u001b[0mpath\u001b[0m\u001b[1;33m,\u001b[0m \u001b[0mmode\u001b[0m\u001b[1;33m,\u001b[0m \u001b[0mstorage_options\u001b[0m\u001b[1;33m=\u001b[0m\u001b[0mstorage_options\u001b[0m\u001b[1;33m,\u001b[0m \u001b[0mis_text\u001b[0m\u001b[1;33m=\u001b[0m\u001b[1;32mFalse\u001b[0m\u001b[1;33m\u001b[0m\u001b[1;33m\u001b[0m\u001b[0m\n\u001b[0m\u001b[0;32m    801\u001b[0m             )\n\u001b[0;32m    802\u001b[0m         \u001b[0mself\u001b[0m\u001b[1;33m.\u001b[0m\u001b[0msheets\u001b[0m\u001b[1;33m:\u001b[0m \u001b[0mDict\u001b[0m\u001b[1;33m[\u001b[0m\u001b[0mstr\u001b[0m\u001b[1;33m,\u001b[0m \u001b[0mAny\u001b[0m\u001b[1;33m]\u001b[0m \u001b[1;33m=\u001b[0m \u001b[1;33m{\u001b[0m\u001b[1;33m}\u001b[0m\u001b[1;33m\u001b[0m\u001b[1;33m\u001b[0m\u001b[0m\n",
      "\u001b[1;32m~\\Anaconda3\\envs\\quetzal_env\\lib\\site-packages\\pandas\\io\\common.py\u001b[0m in \u001b[0;36mget_handle\u001b[1;34m(path_or_buf, mode, encoding, compression, memory_map, is_text, errors, storage_options)\u001b[0m\n\u001b[0;32m    649\u001b[0m         \u001b[1;32melse\u001b[0m\u001b[1;33m:\u001b[0m\u001b[1;33m\u001b[0m\u001b[1;33m\u001b[0m\u001b[0m\n\u001b[0;32m    650\u001b[0m             \u001b[1;31m# Binary mode\u001b[0m\u001b[1;33m\u001b[0m\u001b[1;33m\u001b[0m\u001b[1;33m\u001b[0m\u001b[0m\n\u001b[1;32m--> 651\u001b[1;33m             \u001b[0mhandle\u001b[0m \u001b[1;33m=\u001b[0m \u001b[0mopen\u001b[0m\u001b[1;33m(\u001b[0m\u001b[0mhandle\u001b[0m\u001b[1;33m,\u001b[0m \u001b[0mioargs\u001b[0m\u001b[1;33m.\u001b[0m\u001b[0mmode\u001b[0m\u001b[1;33m)\u001b[0m\u001b[1;33m\u001b[0m\u001b[1;33m\u001b[0m\u001b[0m\n\u001b[0m\u001b[0;32m    652\u001b[0m         \u001b[0mhandles\u001b[0m\u001b[1;33m.\u001b[0m\u001b[0mappend\u001b[0m\u001b[1;33m(\u001b[0m\u001b[0mhandle\u001b[0m\u001b[1;33m)\u001b[0m\u001b[1;33m\u001b[0m\u001b[1;33m\u001b[0m\u001b[0m\n\u001b[0;32m    653\u001b[0m \u001b[1;33m\u001b[0m\u001b[0m\n",
      "\u001b[1;31mFileNotFoundError\u001b[0m: [Errno 2] No such file or directory: '../../model/base/calibration/calibration_base.xlsx'"
     ]
    }
   ],
   "source": [
    "writer = pd.ExcelWriter(r'../../model/{scen}/calibration/calibration_{scen}.xlsx'.format(scen=scenario), mode='a')\n",
    "pd.merge(r_pkm,s_pkm, left_index=True, right_index=True).stack().to_excel(writer, sheet_name='modal_split')\n",
    "writer.save()"
   ]
  },
  {
   "cell_type": "markdown",
   "metadata": {},
   "source": [
    "# END"
   ]
  },
  {
   "cell_type": "code",
   "execution_count": null,
   "metadata": {},
   "outputs": [],
   "source": [
    "end_of_notebook"
   ]
  }
 ],
 "metadata": {
  "kernelspec": {
   "display_name": "Python [conda env:quetzal_env]",
   "language": "python",
   "name": "conda-env-quetzal_env-py"
  },
  "language_info": {
   "codemirror_mode": {
    "name": "ipython",
    "version": 3
   },
   "file_extension": ".py",
   "mimetype": "text/x-python",
   "name": "python",
   "nbconvert_exporter": "python",
   "pygments_lexer": "ipython3",
   "version": "3.7.9"
  }
 },
 "nbformat": 4,
 "nbformat_minor": 4
}
