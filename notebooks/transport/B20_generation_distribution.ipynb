{
 "cells": [
  {
   "cell_type": "code",
   "execution_count": 1,
   "metadata": {},
   "outputs": [],
   "source": [
    "import sys # for automation and parallelization: set manual to false when run by a launcher\n",
    "manual, scenario = (True, 'base') if 'ipykernel' in sys.argv[0] else (False, sys.argv[1])"
   ]
  },
  {
   "cell_type": "markdown",
   "metadata": {},
   "source": [
    "# START"
   ]
  },
  {
   "cell_type": "code",
   "execution_count": 2,
   "metadata": {},
   "outputs": [
    {
     "name": "stdout",
     "output_type": "stream",
     "text": [
      "SQLalchemy is not installed. No support for SQL output.\n"
     ]
    }
   ],
   "source": [
    "import sys\n",
    "sys.path.insert(0, r'../../../quetzal')\n",
    "\n",
    "from quetzal.model import stepmodel\n",
    "import numpy as np\n",
    "import pandas as pd\n",
    "from quetzal.io import excel"
   ]
  },
  {
   "cell_type": "code",
   "execution_count": 3,
   "metadata": {},
   "outputs": [],
   "source": [
    "training_folder = '../../'"
   ]
  },
  {
   "cell_type": "code",
   "execution_count": 4,
   "metadata": {},
   "outputs": [],
   "source": [
    "# the scenario specific variables are read from the parameter file\n",
    "var = excel.read_var(file='../../inputs/parameters.xlsx', scenario=scenario)"
   ]
  },
  {
   "cell_type": "code",
   "execution_count": 5,
   "metadata": {
    "scrolled": false
   },
   "outputs": [
    {
     "name": "stderr",
     "output_type": "stream",
     "text": [
      "zone_to_transit: 100%|█████████████████████████████████████████████████████████████████| 38/38 [00:01<00:00, 21.16it/s]\n"
     ]
    }
   ],
   "source": [
    "sm = stepmodel.read_zippedpickles(training_folder + 'model/{scen}/aon_pathfinder'.format(scen=scenario))"
   ]
  },
  {
   "cell_type": "markdown",
   "metadata": {},
   "source": [
    "# generation\n",
    "- Production = Population\n",
    "- Attraction = Jobs"
   ]
  },
  {
   "cell_type": "code",
   "execution_count": 6,
   "metadata": {},
   "outputs": [
    {
     "data": {
      "text/html": [
       "<div>\n",
       "<style scoped>\n",
       "    .dataframe tbody tr th:only-of-type {\n",
       "        vertical-align: middle;\n",
       "    }\n",
       "\n",
       "    .dataframe tbody tr th {\n",
       "        vertical-align: top;\n",
       "    }\n",
       "\n",
       "    .dataframe thead tr th {\n",
       "        text-align: left;\n",
       "    }\n",
       "\n",
       "    .dataframe thead tr:last-of-type th {\n",
       "        text-align: right;\n",
       "    }\n",
       "</style>\n",
       "<table border=\"1\" class=\"dataframe\">\n",
       "  <thead>\n",
       "    <tr>\n",
       "      <th>direction</th>\n",
       "      <th colspan=\"3\" halign=\"left\">prod</th>\n",
       "      <th colspan=\"3\" halign=\"left\">attr</th>\n",
       "    </tr>\n",
       "    <tr>\n",
       "      <th>purpose</th>\n",
       "      <th>work</th>\n",
       "      <th>back_home</th>\n",
       "      <th>others</th>\n",
       "      <th>work</th>\n",
       "      <th>back_home</th>\n",
       "      <th>others</th>\n",
       "    </tr>\n",
       "    <tr>\n",
       "      <th>variable</th>\n",
       "      <th></th>\n",
       "      <th></th>\n",
       "      <th></th>\n",
       "      <th></th>\n",
       "      <th></th>\n",
       "      <th></th>\n",
       "    </tr>\n",
       "  </thead>\n",
       "  <tbody>\n",
       "    <tr>\n",
       "      <th>population</th>\n",
       "      <td>0.087438</td>\n",
       "      <td>0.00000</td>\n",
       "      <td>0.198771</td>\n",
       "      <td>0.000000</td>\n",
       "      <td>0.017877</td>\n",
       "      <td>0.000000</td>\n",
       "    </tr>\n",
       "    <tr>\n",
       "      <th>empl_estim</th>\n",
       "      <td>0.000000</td>\n",
       "      <td>0.04363</td>\n",
       "      <td>0.000000</td>\n",
       "      <td>0.222843</td>\n",
       "      <td>0.000000</td>\n",
       "      <td>0.000000</td>\n",
       "    </tr>\n",
       "    <tr>\n",
       "      <th>visit_estim</th>\n",
       "      <td>0.000000</td>\n",
       "      <td>0.00000</td>\n",
       "      <td>0.000000</td>\n",
       "      <td>0.000000</td>\n",
       "      <td>0.000000</td>\n",
       "      <td>0.319397</td>\n",
       "    </tr>\n",
       "  </tbody>\n",
       "</table>\n",
       "</div>"
      ],
      "text/plain": [
       "direction        prod                          attr                    \n",
       "purpose          work back_home    others      work back_home    others\n",
       "variable                                                               \n",
       "population   0.087438   0.00000  0.198771  0.000000  0.017877  0.000000\n",
       "empl_estim   0.000000   0.04363  0.000000  0.222843  0.000000  0.000000\n",
       "visit_estim  0.000000   0.00000  0.000000  0.000000  0.000000  0.319397"
      ]
     },
     "execution_count": 6,
     "metadata": {},
     "output_type": "execute_result"
    }
   ],
   "source": [
    "#Linear regressions coefficients for production and attraction estimation\n",
    "\n",
    "prod = {'work' : [0.0988, 0, 0],\n",
    "       'back_home' : [0, 0.0493, 0],\n",
    "       'others' : [0.2246, 0, 0]}\n",
    "\n",
    "attr = {'work' : [0, 0.2518, 0],\n",
    "       'back_home' : [0.0202, 0, 0],\n",
    "       'others' : [0, 0, 0.3609]}\n",
    "\n",
    "prod = pd.DataFrame(prod, index = ['population', 'empl_estim', 'visit_estim'])\n",
    "attr = pd.DataFrame(attr, index = ['population', 'empl_estim', 'visit_estim'])\n",
    "prod.index.name = 'variable'\n",
    "attr.index.name = 'variable'\n",
    "prod.columns.name = 'purpose'\n",
    "attr.columns.name = 'purpose'\n",
    "\n",
    "df = pd.DataFrame({'prod':prod.stack(), 'attr':attr.stack()})\n",
    "\n",
    "df.columns.name = 'direction'\n",
    "\n",
    "coef = df.unstack('purpose')\n",
    "\n",
    "coef *= 0.885\n",
    "\n",
    "coef"
   ]
  },
  {
   "cell_type": "code",
   "execution_count": 7,
   "metadata": {},
   "outputs": [
    {
     "data": {
      "text/html": [
       "<div>\n",
       "<style scoped>\n",
       "    .dataframe tbody tr th:only-of-type {\n",
       "        vertical-align: middle;\n",
       "    }\n",
       "\n",
       "    .dataframe tbody tr th {\n",
       "        vertical-align: top;\n",
       "    }\n",
       "\n",
       "    .dataframe thead th {\n",
       "        text-align: right;\n",
       "    }\n",
       "</style>\n",
       "<table border=\"1\" class=\"dataframe\">\n",
       "  <thead>\n",
       "    <tr style=\"text-align: right;\">\n",
       "      <th>direction</th>\n",
       "      <th>prod</th>\n",
       "      <th>attr</th>\n",
       "    </tr>\n",
       "    <tr>\n",
       "      <th>variable</th>\n",
       "      <th></th>\n",
       "      <th></th>\n",
       "    </tr>\n",
       "  </thead>\n",
       "  <tbody>\n",
       "    <tr>\n",
       "      <th>empl_estim</th>\n",
       "      <td>0.043630</td>\n",
       "      <td>0.222843</td>\n",
       "    </tr>\n",
       "    <tr>\n",
       "      <th>population</th>\n",
       "      <td>0.286209</td>\n",
       "      <td>0.017877</td>\n",
       "    </tr>\n",
       "    <tr>\n",
       "      <th>visit_estim</th>\n",
       "      <td>0.000000</td>\n",
       "      <td>0.319397</td>\n",
       "    </tr>\n",
       "  </tbody>\n",
       "</table>\n",
       "</div>"
      ],
      "text/plain": [
       "direction        prod      attr\n",
       "variable                       \n",
       "empl_estim   0.043630  0.222843\n",
       "population   0.286209  0.017877\n",
       "visit_estim  0.000000  0.319397"
      ]
     },
     "execution_count": 7,
     "metadata": {},
     "output_type": "execute_result"
    }
   ],
   "source": [
    "#Purpose aggregation\n",
    "\n",
    "coef_agg = coef.stack(['purpose'])\n",
    "coef_agg = coef_agg.groupby(['variable']).sum()\n",
    "\n",
    "coef_agg"
   ]
  },
  {
   "cell_type": "code",
   "execution_count": 8,
   "metadata": {},
   "outputs": [],
   "source": [
    "shape = str(var['general', 'urban_shape'])"
   ]
  },
  {
   "cell_type": "code",
   "execution_count": 9,
   "metadata": {},
   "outputs": [],
   "source": [
    "if var['jobs']['nip']!=0:\n",
    "    sm.zones['Jobs ' + shape]['zone_194']=var['jobs']['nip']"
   ]
  },
  {
   "cell_type": "code",
   "execution_count": 10,
   "metadata": {},
   "outputs": [],
   "source": [
    "sm.zones['population'] = sm.zones['Population ' + shape]\n",
    "sm.zones['empl_estim'] = sm.zones['Jobs ' + shape]\n",
    "sm.zones['visit_estim'] = sm.zones['Visits ' + shape]\n",
    "zones_var = sm.zones.copy()\n",
    "zones_var = zones_var[['population', 'empl_estim', 'visit_estim']]"
   ]
  },
  {
   "cell_type": "code",
   "execution_count": 11,
   "metadata": {},
   "outputs": [
    {
     "data": {
      "text/plain": [
       "319476.0"
      ]
     },
     "execution_count": 11,
     "metadata": {},
     "output_type": "execute_result"
    }
   ],
   "source": [
    "sm.zones['population'].sum()"
   ]
  },
  {
   "cell_type": "code",
   "execution_count": 12,
   "metadata": {},
   "outputs": [
    {
     "data": {
      "text/plain": [
       "106912.0"
      ]
     },
     "execution_count": 12,
     "metadata": {},
     "output_type": "execute_result"
    }
   ],
   "source": [
    "sm.zones['empl_estim'].sum()"
   ]
  },
  {
   "cell_type": "code",
   "execution_count": 13,
   "metadata": {},
   "outputs": [
    {
     "data": {
      "text/html": [
       "<div>\n",
       "<style scoped>\n",
       "    .dataframe tbody tr th:only-of-type {\n",
       "        vertical-align: middle;\n",
       "    }\n",
       "\n",
       "    .dataframe tbody tr th {\n",
       "        vertical-align: top;\n",
       "    }\n",
       "\n",
       "    .dataframe thead th {\n",
       "        text-align: right;\n",
       "    }\n",
       "</style>\n",
       "<table border=\"1\" class=\"dataframe\">\n",
       "  <thead>\n",
       "    <tr style=\"text-align: right;\">\n",
       "      <th>direction</th>\n",
       "      <th>prod</th>\n",
       "      <th>attr</th>\n",
       "    </tr>\n",
       "    <tr>\n",
       "      <th>variable</th>\n",
       "      <th></th>\n",
       "      <th></th>\n",
       "    </tr>\n",
       "  </thead>\n",
       "  <tbody>\n",
       "    <tr>\n",
       "      <th>empl_estim</th>\n",
       "      <td>0.043630</td>\n",
       "      <td>0.222843</td>\n",
       "    </tr>\n",
       "    <tr>\n",
       "      <th>population</th>\n",
       "      <td>0.286209</td>\n",
       "      <td>0.017877</td>\n",
       "    </tr>\n",
       "    <tr>\n",
       "      <th>visit_estim</th>\n",
       "      <td>0.000000</td>\n",
       "      <td>0.319397</td>\n",
       "    </tr>\n",
       "  </tbody>\n",
       "</table>\n",
       "</div>"
      ],
      "text/plain": [
       "direction        prod      attr\n",
       "variable                       \n",
       "empl_estim   0.043630  0.222843\n",
       "population   0.286209  0.017877\n",
       "visit_estim  0.000000  0.319397"
      ]
     },
     "execution_count": 13,
     "metadata": {},
     "output_type": "execute_result"
    }
   ],
   "source": [
    "coef_agg"
   ]
  },
  {
   "cell_type": "code",
   "execution_count": 14,
   "metadata": {},
   "outputs": [],
   "source": [
    "zones_survey = pd.read_excel(r'../../../quetzal_dire_dawa/inputs/production_attraction_zones.xlsx')\n",
    "zones_survey['latin_name']=zones_survey['latin_name'].apply(lambda n: n.replace(\" \",\"_\"))\n",
    "zones_survey['prod_hpm']=zones_survey['prod_hpm_work']+zones_survey['prod_hpm_back_home']+zones_survey['prod_hpm_others']\n",
    "zones_survey['attr_hpm']=zones_survey['attr_hpm_work']+zones_survey['attr_hpm_back_home']+zones_survey['attr_hpm_others']"
   ]
  },
  {
   "cell_type": "code",
   "execution_count": 15,
   "metadata": {},
   "outputs": [],
   "source": [
    "#Generation\n",
    "\n",
    "if var['step_distribution']['generation_from']=='model':\n",
    "    sm.zones['emission']=zones_var.dot(coef_agg['prod'])\n",
    "    sm.zones['attraction']=zones_var.dot(coef_agg['attr'])\n",
    "elif var['step_distribution']['generation_from']=='counts':\n",
    "    zones_counts = sm.zones.reset_index()\n",
    "    zones_counts = pd.merge(zones_counts,zones_survey[['latin_name','prod_hpm','attr_hpm']],\n",
    "                            how='left',left_on='latin_name',right_on='latin_name')\n",
    "    zones_counts['prod_hpm']=zones_counts['prod_hpm'].fillna(0)\n",
    "    zones_counts['attr_hpm']=zones_counts['attr_hpm'].fillna(0)\n",
    "    sm.zones['emission']=zones_counts.set_index('id')['prod_hpm']\n",
    "    sm.zones['attraction']=zones_counts.set_index('id')['attr_hpm']"
   ]
  },
  {
   "cell_type": "code",
   "execution_count": 19,
   "metadata": {},
   "outputs": [
    {
     "data": {
      "text/plain": [
       "87412.42544700002"
      ]
     },
     "execution_count": 19,
     "metadata": {},
     "output_type": "execute_result"
    }
   ],
   "source": [
    "sm.zones['attraction'].sum()"
   ]
  },
  {
   "cell_type": "markdown",
   "metadata": {},
   "source": [
    "# car owners\n",
    "car owners distribution is based on car times"
   ]
  },
  {
   "cell_type": "code",
   "execution_count": null,
   "metadata": {
    "scrolled": true
   },
   "outputs": [],
   "source": [
    "motor_rate = 0\n",
    "car = sm.copy()\n",
    "car.zones['emission'] *= motor_rate"
   ]
  },
  {
   "cell_type": "code",
   "execution_count": null,
   "metadata": {},
   "outputs": [],
   "source": [
    "imp_matrix = car.car_los[\n",
    "    ['origin', 'destination', 'time']\n",
    "].set_index(['origin','destination']).unstack() \n",
    "imp_matrix = imp_matrix.replace(0, 0.1)\n",
    "\n",
    "car.step_distribution(deterrence_matrix=imp_matrix)"
   ]
  },
  {
   "cell_type": "code",
   "execution_count": null,
   "metadata": {},
   "outputs": [],
   "source": [
    "dict_area=sm.zones[['area']].to_dict('index') #TODO check "
   ]
  },
  {
   "cell_type": "markdown",
   "metadata": {},
   "source": [
    "# PT captives\n",
    "car owners distribution is based on car times"
   ]
  },
  {
   "cell_type": "code",
   "execution_count": null,
   "metadata": {},
   "outputs": [],
   "source": [
    "pt = sm.copy()\n",
    "pt.zones['emission'] *= (1-motor_rate)\n",
    "\n",
    "#pt.pt_los['gtime']=np.clip(pt.pt_los['gtime'], 900, None)\n",
    "\n",
    "# This replace np.clip -> Intrazonal time depends on the zone area\n",
    "\n",
    "pt.pt_los['area_origin']=pt.pt_los['origin'].apply(lambda i: dict_area[i]['area'])\n",
    "pt.pt_los\n",
    "\n",
    "coef = var['step_distribution']['pt_intrazonal_parameter'] #To calibrate\n",
    "walk_speed = var['speed']['walk_on_road'] #km/h\n",
    "\n",
    "import math\n",
    "\n",
    "for element in pt.pt_los.index:\n",
    "    if pt.pt_los['origin'][element]==pt.pt_los['destination'][element]:\n",
    "        pt.pt_los['gtime'][element]=3600*coef*math.sqrt(pt.pt_los['area_origin'][element])/walk_speed\n",
    "\n",
    "# Add X seconds to each OD\n",
    "\n",
    "pt.pt_los['gtime'] = pt.pt_los['gtime'] + var['step_distribution']['pt_intrazonal_time']\n",
    "\n",
    "# Ici on prend comme fonction de coût le temps TC. Notez le .unstack() \n",
    "\n",
    "imp_matrix = pt.pt_los[\n",
    "    ['origin', 'destination', 'gtime']\n",
    "].set_index(['origin','destination']).unstack() \n",
    "\n",
    "#imp_matrix = imp_matrix.replace(0, 120)"
   ]
  },
  {
   "cell_type": "code",
   "execution_count": null,
   "metadata": {},
   "outputs": [],
   "source": [
    "imp_matrix.head()"
   ]
  },
  {
   "cell_type": "code",
   "execution_count": null,
   "metadata": {},
   "outputs": [],
   "source": [
    "sm.zones.head()"
   ]
  },
  {
   "cell_type": "code",
   "execution_count": null,
   "metadata": {},
   "outputs": [],
   "source": [
    "pt.pt_los"
   ]
  },
  {
   "cell_type": "code",
   "execution_count": null,
   "metadata": {},
   "outputs": [],
   "source": [
    "import math\n",
    "\n",
    "imp_matrix = pt.pt_los[\n",
    "    ['origin', 'destination', 'gtime']\n",
    "].set_index(['origin','destination'])\n",
    "#.unstack()\n",
    "\n",
    "alpha = var['step_distribution']['pt_power'] #1.5-2.5\n",
    "beta = var['step_distribution']['pt_exponential_weight'] #0.25 hours\n",
    "\n",
    "#Combined Impedance Fonction f(tij) = tij^(alpha) * exp(beta*tij)\n",
    "imp_matrix['gtime']=imp_matrix['gtime'].apply(lambda s: (pow(s/3600,alpha)*math.exp(beta*s/3600)))\n",
    "\n",
    "imp_matrix = imp_matrix.unstack()\n",
    "\n",
    "serie=pd.Series(range(120,3600,60))\n",
    "df=pd.DataFrame(serie)\n",
    "df['p']=serie.apply(lambda s: (pow(s/3600,alpha)*math.exp(beta*s/3600)))\n",
    "df['p']=df['p']/df['p'].max()\n",
    "df.set_index(0).plot()"
   ]
  },
  {
   "cell_type": "code",
   "execution_count": null,
   "metadata": {},
   "outputs": [],
   "source": [
    "order = pt.zones.index\n",
    "imp_matrix = imp_matrix['gtime'].loc[order, order]"
   ]
  },
  {
   "cell_type": "code",
   "execution_count": null,
   "metadata": {},
   "outputs": [],
   "source": [
    "pt.step_distribution(deterrence_matrix=imp_matrix)"
   ]
  },
  {
   "cell_type": "code",
   "execution_count": null,
   "metadata": {
    "scrolled": false
   },
   "outputs": [],
   "source": [
    "pt.volumes.head()"
   ]
  },
  {
   "cell_type": "markdown",
   "metadata": {},
   "source": [
    "# merge matrices"
   ]
  },
  {
   "cell_type": "code",
   "execution_count": null,
   "metadata": {
    "scrolled": true
   },
   "outputs": [],
   "source": [
    "sm.volumes = pd.merge(\n",
    "    car.volumes,\n",
    "    pt.volumes,\n",
    "    on=['origin', 'destination'],\n",
    "    suffixes=[ '_car_owner', '_pt_captive']\n",
    ").rename(columns={'volume_car_owner': 'car_owner', 'volume_pt_captive': 'pt_captive'})"
   ]
  },
  {
   "cell_type": "markdown",
   "metadata": {},
   "source": [
    "# to_zip"
   ]
  },
  {
   "cell_type": "code",
   "execution_count": null,
   "metadata": {},
   "outputs": [],
   "source": [
    "sm.to_zippedpickles(\n",
    "    training_folder + 'model/{scen}/distribution'.format(scen=scenario), \n",
    "    only_attributes=['volumes', 'zones','epsg', 'coordinates_unit']\n",
    ")"
   ]
  },
  {
   "cell_type": "code",
   "execution_count": null,
   "metadata": {},
   "outputs": [],
   "source": [
    "end_of_notebook"
   ]
  }
 ],
 "metadata": {
  "kernelspec": {
   "display_name": "Python [conda env:quetzal_env]",
   "language": "python",
   "name": "conda-env-quetzal_env-py"
  },
  "language_info": {
   "codemirror_mode": {
    "name": "ipython",
    "version": 3
   },
   "file_extension": ".py",
   "mimetype": "text/x-python",
   "name": "python",
   "nbconvert_exporter": "python",
   "pygments_lexer": "ipython3",
   "version": "3.7.5"
  }
 },
 "nbformat": 4,
 "nbformat_minor": 2
}
