{
 "cells": [
  {
   "cell_type": "code",
   "execution_count": null,
   "metadata": {},
   "outputs": [],
   "source": [
    "import sys # for automation and parallelization: set manual to false when run by a launcher\n",
    "manual, scenario = (True, 'base') if 'ipykernel' in sys.argv[0] else (False, sys.argv[1])"
   ]
  },
  {
   "cell_type": "code",
   "execution_count": null,
   "metadata": {},
   "outputs": [],
   "source": [
    "import sys\n",
    "sys.path.insert(0, r'../../../quetzal')\n",
    "\n",
    "from quetzal.model import stepmodel\n",
    "from quetzal.io import excel\n",
    "import numpy as np\n",
    "import pandas as pd"
   ]
  },
  {
   "cell_type": "code",
   "execution_count": null,
   "metadata": {},
   "outputs": [],
   "source": [
    "sm = stepmodel.read_zippedpickles(r'../../model/{scen}/modal_split'.format(scen=scenario))"
   ]
  },
  {
   "cell_type": "code",
   "execution_count": null,
   "metadata": {},
   "outputs": [],
   "source": [
    "from syspy.assignment import raw as raw_assignment\n",
    "sm.compute_los_volume()\n",
    "\n",
    "# PT ASSIGNMENT\n",
    "# create PT volume column in sm.volumes\n",
    "right = sm.probabilities[['origin', 'destination', 'pt']].rename(columns={'pt': 'pt_share'})\n",
    "sm.volumes.drop(['pt_share', 'pt'], inplace=True, errors='ignore', axis=1)\n",
    "sm.volumes = pd.merge(sm.volumes, right, on=['origin', 'destination'])\n",
    "sm.volumes['pt'] = sm.volumes['pt_share'] * sm.volumes['todos']\n",
    "\n",
    "# PT strategy assignment\n",
    "sm.step_strategy_assignment(volume_column='pt', road=True)\n",
    "\n",
    "# WALK ASSIGNMENT\n",
    "walk_los = sm.los.loc[sm.los['route_type'] == 'walk']\n",
    "sm.road_links['walk'] = raw_assignment.assign(\n",
    "    list(walk_los['volume']), \n",
    "    list(walk_los['link_path'])\n",
    ")\n",
    "\n",
    "# CAR ASSIGNMENT\n",
    "walk_los = sm.los.loc[sm.los['route_type'] == 'car']\n",
    "sm.road_links['car'] = raw_assignment.assign(\n",
    "    list(walk_los['volume']), \n",
    "    list(walk_los['link_path'])\n",
    ")"
   ]
  },
  {
   "cell_type": "code",
   "execution_count": null,
   "metadata": {},
   "outputs": [],
   "source": [
    "sm.to_zippedpickles(\n",
    "    '../../model/{scen}/assignment'.format(scen=scenario), \n",
    ")"
   ]
  },
  {
   "cell_type": "code",
   "execution_count": null,
   "metadata": {},
   "outputs": [],
   "source": [
    "end_of_notebook"
   ]
  }
 ],
 "metadata": {
  "kernelspec": {
   "display_name": "Python [conda env:quetzal_env]",
   "language": "python",
   "name": "conda-env-quetzal_env-py"
  },
  "language_info": {
   "codemirror_mode": {
    "name": "ipython",
    "version": 3
   },
   "file_extension": ".py",
   "mimetype": "text/x-python",
   "name": "python",
   "nbconvert_exporter": "python",
   "pygments_lexer": "ipython3",
   "version": "3.7.5"
  }
 },
 "nbformat": 4,
 "nbformat_minor": 2
}
